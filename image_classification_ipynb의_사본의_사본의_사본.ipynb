{
 "cells": [
  {
   "cell_type": "code",
   "execution_count": 1,
   "id": "69359344",
   "metadata": {
    "id": "69359344"
   },
   "outputs": [
    {
     "name": "stdout",
     "output_type": "stream",
     "text": [
      "72342\n",
      "양호 : 534\n",
      "건성 : 1576\n",
      "지성 : 7050\n",
      "민감성 : 4879\n",
      "지루성 : 28143\n",
      "염증성 : 502\n",
      "비듬성 : 7491\n",
      "탈모성 : 148\n",
      "복합성 : 22019\n"
     ]
    },
    {
     "name": "stderr",
     "output_type": "stream",
     "text": [
      "c:\\Users\\user\\AppData\\Local\\Programs\\Python\\Python311\\Lib\\site-packages\\sklearn\\preprocessing\\_encoders.py:868: FutureWarning: `sparse` was renamed to `sparse_output` in version 1.2 and will be removed in 1.4. `sparse_output` is ignored unless you leave `sparse` to its default value.\n",
      "  warnings.warn(\n"
     ]
    },
    {
     "name": "stdout",
     "output_type": "stream",
     "text": [
      "(72342, 200, 200, 3) (72342, 9)\n"
     ]
    },
    {
     "data": {
      "text/plain": [
       "'\\n양호 : 534\\n건성 : 1576\\n지성 : 7050\\n민감성 : 4879\\n지루성 : 28143\\n염증성 : 502\\n비듬성 : 7491\\n탈모성 : 148\\n복합성 : 22019\\n'"
      ]
     },
     "execution_count": 1,
     "metadata": {},
     "output_type": "execute_result"
    }
   ],
   "source": [
    "# 독립변수 종속변수 모두 수치형이어야 딥러닝이 돌아간다.\n",
    "\n",
    "# - 원태찬 작성.\n",
    "# : 팀프로젝트를 했었던 내용이었지만 이미지 분류 딥러닝은 잃어버린 파일이었어서 혼자 작성함.\n",
    "\n",
    "# - training(학습), validation(검증)의 2가지 데이터가 있다.\n",
    "import os\n",
    "import pandas as pd\n",
    "import numpy as np\n",
    "from keras import Sequential\n",
    "from keras.layers import Dense, Dropout, Conv2D, MaxPool2D, Flatten\n",
    "import tensorflow as tf\n",
    "from keras.preprocessing.image import ImageDataGenerator\n",
    "from keras.callbacks import EarlyStopping\n",
    "from sklearn.model_selection import _split\n",
    "from sklearn.preprocessing import OneHotEncoder, MinMaxScaler\n",
    "import os\n",
    "import numpy as np\n",
    "import matplotlib.pyplot as plt\n",
    "import glob\n",
    "from PIL import Image\n",
    "from keras.preprocessing import image\n",
    "import re\n",
    "from sklearn.preprocessing._label import LabelEncoder\n",
    "\n",
    "# json 파일 읽어서 DataFrame화 하기\n",
    "pd.set_option('display.max_columns', None)\n",
    "\n",
    "path = 'C:/Users/user/Desktop/CNN/유형별 두피 이미지/Training/label_training/'\n",
    "file_list = os.listdir(path)\n",
    "file_list_py = [file for file in file_list if file.endswith('.json')]\n",
    "\n",
    "import json\n",
    "\n",
    "dict_list = []\n",
    "for i in file_list_py:\n",
    "    for line in open((path+i),\"r\"):\n",
    "        dict_list.append(json.loads(line))\n",
    "df = pd.DataFrame(dict_list)\n",
    "print(len(df))\n",
    "\n",
    "# 0->0, 1,2,3->1로 바꾸는 작업\n",
    "for i in range(1,7):\n",
    "  df[f'value_{i}'] = df[f'value_{i}'].map({'0':0,'1':1,'2':1,'3':1})\n",
    "df['구분'] = '복합성'\n",
    "\n",
    "\n",
    "# label 지정\n",
    "# +  : 123\n",
    "# -   : 0\n",
    "# +- : 0123\n",
    "for i in range(len(df)):\n",
    "    if df.iloc[i][2:8].sum() == 0:\n",
    "        df.loc[i, '구분'] = '양호'\n",
    "    elif (df['value_1'][i] == 1) & (df['value_2'][i] == 0) & (df['value_3'][i] == 0) & (df['value_4'][i] == 0) & (df['value_5'][i] == 0) & (df['value_6'][i] == 0):\n",
    "        df.loc[i, '구분'] = '건성'\n",
    "    elif (df['value_1'][i] == 0) & (df['value_2'][i] == 1) & (df['value_3'][i] == 0) & (df['value_4'][i] == 0) & (df['value_5'][i] == 0) & (df['value_6'][i] == 0):\n",
    "        df.loc[i, '구분'] = '지성'\n",
    "    elif (df['value_1'][i] in [0,1]) & (df['value_2'][i] == 0) & (df['value_3'][i] == 1) & (df['value_4'][i] == 0) & (df['value_5'][i] == 0) & (df['value_6'][i] == 0):\n",
    "        df.loc[i, '구분'] = '민감성'\n",
    "    elif (df['value_1'][i] in [0,1]) & (df['value_2'][i] == 1) & (df['value_3'][i] == 1) & (df['value_4'][i] == 0) & (df['value_5'][i] in [0,1]) & (df['value_6'][i] == 0):\n",
    "        df.loc[i, '구분'] = '지루성'\n",
    "    elif (df['value_1'][i] in [0,1]) & (df['value_2'][i] in [0,1]) & (df['value_3'][i] == 0) & (df['value_4'][i] == 1) & (df['value_5'][i] in [0,1]) & (df['value_6'][i] == 0):\n",
    "        df.loc[i, '구분'] = '염증성'\n",
    "    elif (df['value_1'][i] in [0,1]) & (df['value_2'][i] in [0,1]) & (df['value_3'][i] == 0) & (df['value_4'][i] == 0) & (df['value_5'][i] == 1) & (df['value_6'][i] == 0):\n",
    "        df.loc[i, '구분'] = '비듬성'\n",
    "    elif (df['value_1'][i] == 0) & (df['value_2'][i] == 0) & (df['value_3'][i] == 0) & (df['value_4'][i] == 0) & (df['value_5'][i] == 0) & (df['value_6'][i] == 1):\n",
    "        df.loc[i, '구분'] = '탈모성'\n",
    "    else:\n",
    "        df.loc[i, '구분'] = '복합성'\n",
    "\n",
    "\n",
    "print('양호 :', (df['구분'] == '양호').value_counts()[True])\n",
    "print('건성 :', (df['구분'] == '건성').value_counts()[True])\n",
    "print('지성 :', (df['구분'] == '지성').value_counts()[True])\n",
    "print('민감성 :', (df['구분'] == '민감성').value_counts()[True])\n",
    "print('지루성 :', (df['구분'] == '지루성').value_counts()[True])\n",
    "print('염증성 :', (df['구분'] == '염증성').value_counts()[True])\n",
    "print('비듬성 :', (df['구분'] == '비듬성').value_counts()[True])\n",
    "print('탈모성 :', (df['구분'] == '탈모성').value_counts()[True])\n",
    "print('복합성 :', (df['구분'] == '복합성').value_counts()[True])\n",
    "\n",
    "image_path = \"C:/Users/user/Desktop/CNN/유형별 두피 이미지/Training/feature_training/\"\n",
    "image_files = [file for file in os.listdir(image_path) if file.endswith('.jpg')]\n",
    "# 이미지 파일을 NumPy 배열로 변환\n",
    "images = []\n",
    "for file_name in image_files:\n",
    "    img = Image.open(os.path.join(image_path, file_name)).resize((200, 200))\n",
    "    images.append(np.array(img))\n",
    "images = np.array(images)\n",
    "\n",
    "# 이미지 파일 이름과 DataFrame을 매칭\n",
    "file_df = pd.DataFrame(image_files, columns=[\"image_file_name\"])\n",
    "merged_df = pd.merge(df, file_df, on='image_file_name', how='inner')\n",
    "\n",
    "# 라벨 인코딩 및 원-핫 인코딩\n",
    "labels = merged_df['구분'].values\n",
    "onehot_encoder = OneHotEncoder(sparse=False)\n",
    "labels_encoded = onehot_encoder.fit_transform(labels.reshape(-1, 1))\n",
    "\n",
    "print(images.shape, labels_encoded.shape)\n",
    "\n",
    "# 이미지\n",
    "# features: 이미지  (72342장)\n",
    "# labels: 라벨링 데이터  (72342개)\n",
    "\n",
    "\"\"\"\n",
    "양호 : 534\n",
    "건성 : 1576\n",
    "지성 : 7050\n",
    "민감성 : 4879\n",
    "지루성 : 28143\n",
    "염증성 : 502\n",
    "비듬성 : 7491\n",
    "탈모성 : 148\n",
    "복합성 : 22019\n",
    "\"\"\""
   ]
  },
  {
   "cell_type": "code",
   "execution_count": 2,
   "id": "803d1deb",
   "metadata": {
    "id": "803d1deb"
   },
   "outputs": [
    {
     "name": "stdout",
     "output_type": "stream",
     "text": [
      "(50639, 200, 200, 3) (50639, 9)\n",
      "(21703, 200, 200, 3) (21703, 9)\n"
     ]
    }
   ],
   "source": [
    "from sklearn.model_selection import train_test_split\n",
    "from keras.utils import to_categorical\n",
    "from sklearn.preprocessing import LabelEncoder\n",
    "# 데이터 나누기\n",
    "# test_size=0.3은 전체 데이터 중 30%를 테스트 데이터로, 70%는 훈련 데이터로 사용된다는 뜻이다.\n",
    "x_train, x_test, y_train, y_test = train_test_split(images, labels_encoded, test_size=0.3, random_state=42)\n",
    "\n",
    "print(x_train.shape, y_train.shape)  # 훈련 데이터의 크기 출력\n",
    "print(x_test.shape, y_test.shape)  # 테스트 데이터의 크기 출력"
   ]
  },
  {
   "cell_type": "code",
   "execution_count": 22,
   "id": "99dd82c6",
   "metadata": {
    "id": "99dd82c6"
   },
   "outputs": [],
   "source": [
    "# EfficientNet\n",
    "# 개요: 2019년에 Google AI에서 발표한 EfficientNet은 확장성(scalability)이 뛰어난 모델입니다. 이 모델은 기본적인 구조를 다양한 크기로 확장하여 작은 모델부터 큰 모델까지 여러 범위의 계산 복잡도와 성능을 아우를 수 있습니다.\n",
    "# 특징: EfficientNet은 깊이(depth), 너비(width), 해상도(resolution)의 세 가지 차원에서 모델의 크기를 균형 있게 조정합니다. 이를 통해 비교적 적은 파라미터로도 높은 정확도를 달성합니다.\n",
    "# 데이터셋 크기 : 작은 데이터셋에서는 EfficientNet 같은 모델이 더 적합할 수 있습니다.\n",
    "\n",
    "from tensorflow.keras.applications import EfficientNetB0\n",
    "from tensorflow.keras.models import Sequential\n",
    "from tensorflow.keras.layers import Conv2D, MaxPooling2D, Dropout, Flatten, Dense, BatchNormalization\n",
    "transfer_model = EfficientNetB0(weights='imagenet', include_top=False,  input_shape=(200,200,3))\n",
    "transfer_model.trainable=False\n",
    "\n",
    "\n",
    "model_EfficientNetB0 = Sequential([\n",
    "    transfer_model,\n",
    "    Conv2D(128, kernel_size=(3,3), input_shape=(200,200,3), padding='same', activation='relu'),\n",
    "    MaxPool2D(pool_size=(2,2)),\n",
    "    Dropout(0.3),  # 드롭아웃 비율을 조정하여 오버피팅 방지 및 계산량 감소\n",
    "\n",
    "    Flatten(),\n",
    "    Dense(256, activation='relu'),  # 유닛 수 감소\n",
    "    Dense(128, activation='relu'),  # 유닛 수 감소\n",
    "    Dense(9, activation='softmax')  # 최종 출력 레이어\n",
    "])\n"
   ]
  },
  {
   "cell_type": "code",
   "execution_count": 23,
   "id": "b65269b4",
   "metadata": {
    "id": "b65269b4"
   },
   "outputs": [],
   "source": [
    "# 컴파일\n",
    "# Adam(Adaptive Moment Estimation)은 경사하강법(Optimization) 알고리즘 중 하나로, 딥러닝에서 가장 많이 사용되는 최적화 알고리즘 중 하나이다.\n",
    "# 경사하강법은 모델의 손실 함수에 최솟값을 구하는 것을 뜻한다.\n",
    "# categorical_crossentropy는 분류 문제에서 많이 사용되는 손실 함수 중 하나임.\n",
    "# metrics는 모델의 평가 지표로써 acc는 정확도를 사용한다는 뜻임.\n",
    "# Adam 옵티마이저 인스턴스 생성 시 학습률을 0.001로 설정\n",
    "\n",
    "from tensorflow.keras.optimizers import Adam\n",
    "adam = Adam(learning_rate=0.001)\n",
    "\n",
    "# 모델 컴파일 시, 생성한 Adam 인스턴스 사용\n",
    "model_EfficientNetB0.compile(loss='categorical_crossentropy', optimizer=adam, metrics=['accuracy'])"
   ]
  },
  {
   "cell_type": "code",
   "execution_count": 24,
   "id": "c2bad735",
   "metadata": {
    "id": "c2bad735"
   },
   "outputs": [
    {
     "name": "stdout",
     "output_type": "stream",
     "text": [
      "Epoch 1/10\n",
      "80/80 [==============================] - 881s 11s/step - loss: 1.4708 - accuracy: 0.4468 - val_loss: 1.2874 - val_accuracy: 0.5128\n",
      "Epoch 2/10\n",
      "80/80 [==============================] - 891s 11s/step - loss: 1.2695 - accuracy: 0.5081 - val_loss: 1.2408 - val_accuracy: 0.5222\n",
      "Epoch 3/10\n",
      "80/80 [==============================] - 899s 11s/step - loss: 1.2288 - accuracy: 0.5262 - val_loss: 1.2501 - val_accuracy: 0.5185\n",
      "Epoch 4/10\n",
      "80/80 [==============================] - 884s 11s/step - loss: 1.1981 - accuracy: 0.5363 - val_loss: 1.2716 - val_accuracy: 0.5239\n",
      "Epoch 5/10\n",
      "80/80 [==============================] - 881s 11s/step - loss: 1.1819 - accuracy: 0.5436 - val_loss: 1.2361 - val_accuracy: 0.5242\n",
      "Epoch 6/10\n",
      "80/80 [==============================] - 889s 11s/step - loss: 1.1549 - accuracy: 0.5552 - val_loss: 1.2526 - val_accuracy: 0.5136\n",
      "Epoch 7/10\n",
      "80/80 [==============================] - 889s 11s/step - loss: 1.1244 - accuracy: 0.5642 - val_loss: 1.2376 - val_accuracy: 0.5253\n",
      "Epoch 8/10\n",
      "80/80 [==============================] - ETA: 0s - loss: 1.1003 - accuracy: 0.5752Restoring model weights from the end of the best epoch: 5.\n",
      "80/80 [==============================] - 904s 11s/step - loss: 1.1003 - accuracy: 0.5752 - val_loss: 1.2490 - val_accuracy: 0.5200\n",
      "Epoch 8: early stopping\n"
     ]
    }
   ],
   "source": [
    "from tensorflow.keras.callbacks import EarlyStopping\n",
    "\n",
    "# EarlyStopping 콜백 설정\n",
    "earlystop = EarlyStopping(monitor='val_loss',  # 모니터링 대상 성능 지표\n",
    "                          patience=3,  # 성능 지표가 개선되지 않는 에포크를 몇 번이나 허용할 것인가\n",
    "                          verbose=1,  # 진행 상황을 출력\n",
    "                          restore_best_weights=True)  # 가장 좋은 모델의 가중치를 복원할지 여부\n",
    "\n",
    "# 모델 학습\n",
    "history_model_EfficientNetB0 = model_EfficientNetB0.fit(x_train, y_train,\n",
    "                                      epochs=10,\n",
    "                                      batch_size=512,\n",
    "                                      verbose=1,\n",
    "                                      validation_split=0.2,\n",
    "                                      callbacks=[earlystop])  # 콜백 리스트에 earlystop 추가\n",
    "\n",
    "#  best epoch = loss: 1.1819 - accuracy: 0.5436 - val_loss: 1.2361 - val_accuracy: 0.5242\n",
    "# 정확도 : 52.42%"
   ]
  },
  {
   "cell_type": "code",
   "execution_count": 25,
   "id": "e746b7b2",
   "metadata": {
    "id": "e746b7b2"
   },
   "outputs": [
    {
     "data": {
      "image/png": "[encoded data removed]",
      "text/plain": [
       "<Figure size 1500x500 with 1 Axes>"
      ]
     },
     "metadata": {},
     "output_type": "display_data"
    }
   ],
   "source": [
    "plt.figure(figsize=(15,5))\n",
    "plt.plot(history_model_EfficientNetB0.history['accuracy'], color='blue')\n",
    "plt.plot(history_model_EfficientNetB0.history['val_accuracy'], color='red')\n",
    "plt.title('Model accuracy')\n",
    "plt.ylabel('Accuracy')\n",
    "plt.xlabel('Epoch')\n",
    "plt.show()"
   ]
  },
  {
   "cell_type": "code",
   "execution_count": 50,
   "id": "db98613b",
   "metadata": {
    "id": "db98613b"
   },
   "outputs": [
    {
     "name": "stdout",
     "output_type": "stream",
     "text": [
      "1/1 [==============================] - 0s 184ms/step\n",
      "예측값 :  [2 2 2 2 6 6 3 6 3 2]\n",
      "실제값: [6 1 2 2 6 6 6 6 3 2]\n",
      "샘플 1: 실제값 = 6, 예측값 = 2\n",
      "샘플 2: 실제값 = 1, 예측값 = 2\n",
      "샘플 3: 실제값 = 2, 예측값 = 2\n",
      "샘플 4: 실제값 = 2, 예측값 = 2\n",
      "샘플 5: 실제값 = 6, 예측값 = 6\n",
      "샘플 6: 실제값 = 6, 예측값 = 6\n",
      "샘플 7: 실제값 = 6, 예측값 = 3\n",
      "샘플 8: 실제값 = 6, 예측값 = 6\n",
      "샘플 9: 실제값 = 3, 예측값 = 3\n",
      "샘플 10: 실제값 = 2, 예측값 = 2\n",
      "분류 성공 수 :  7\n"
     ]
    }
   ],
   "source": [
    "def predict_and_display(model, x_test, y_test):\n",
    "    # 첫 10개 샘플에 대해 예측하기\n",
    "    y_pred = np.argmax(model.predict(x_test[:10]), axis=1)\n",
    "    print('예측값 : ', y_pred)\n",
    "\n",
    "    # 첫 10개 샘플의 실제값 출력\n",
    "    real_y = np.argmax(y_test[:10], axis=1)\n",
    "    print('실제값:', real_y)\n",
    "\n",
    "    # 실제값과 예측값 비교\n",
    "    for i in range(10):\n",
    "        print(f'샘플 {i+1}: 실제값 = {real_y[i]}, 예측값 = {y_pred[i]}')\n",
    "    print('분류 성공 수 : ', (y_pred == real_y.ravel()).sum())    \n",
    "\n",
    "predict_and_display(model_EfficientNetB0, x_test, y_test)\n"
   ]
  },
  {
   "cell_type": "code",
   "execution_count": null,
   "id": "junM2We1YEFf",
   "metadata": {
    "id": "junM2We1YEFf"
   },
   "outputs": [],
   "source": []
  }
 ],
 "metadata": {
  "colab": {
   "gpuClass": "premium",
   "provenance": []
  },
  "kernelspec": {
   "display_name": "Python 3 (ipykernel)",
   "language": "python",
   "name": "python3"
  },
  "language_info": {
   "codemirror_mode": {
    "name": "ipython",
    "version": 3
   },
   "file_extension": ".py",
   "mimetype": "text/x-python",
   "name": "python",
   "nbconvert_exporter": "python",
   "pygments_lexer": "ipython3",
   "version": "3.11.3"
  }
 },
 "nbformat": 4,
 "nbformat_minor": 5
}
